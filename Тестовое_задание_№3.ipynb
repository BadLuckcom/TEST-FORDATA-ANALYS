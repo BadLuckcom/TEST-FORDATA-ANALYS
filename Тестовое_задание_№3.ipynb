{
  "nbformat": 4,
  "nbformat_minor": 0,
  "metadata": {
    "colab": {
      "provenance": []
    },
    "kernelspec": {
      "name": "python3",
      "display_name": "Python 3"
    },
    "language_info": {
      "name": "python"
    }
  },
  "cells": [
    {
      "cell_type": "code",
      "execution_count": 2,
      "metadata": {
        "id": "ciHTZ7Sq_YuB"
      },
      "outputs": [],
      "source": [
        "import json\n",
        "from datetime import datetime, timedelta"
      ]
    },
    {
      "cell_type": "code",
      "source": [
        "def check_client_eligibility(client_data: dict) -> bool:\n",
        "    birth_date = datetime.fromisoformat(client_data[\"birthDate\"].replace(\"Z\", \"\"))\n",
        "    passport_issued_at = datetime.fromisoformat(client_data[\"passport\"][\"issuedAt\"].replace(\"Z\", \"\"))\n",
        "    current_date = datetime.now()\n",
        "    age = (current_date - birth_date).days // 365\n",
        "\n",
        "    # Проверка 1: Минимальный возраст (не менее 20 лет)\n",
        "    if age < 20:\n",
        "        return False\n",
        "\n",
        "    # Проверка 2: Действительность паспорта\n",
        "    age_20_date = birth_date + timedelta(days=365*20)\n",
        "    age_45_date = birth_date + timedelta(days=365*45)\n",
        "\n",
        "    if (age >= 20 and passport_issued_at < age_20_date) or (age >= 45 and passport_issued_at < age_45_date):\n",
        "        return False\n",
        "\n",
        "    # Проверка 3: Кредитная история\n",
        "    overdue_count = 0  # Количество кредитов с просрочкой более 15 дней\n",
        "\n",
        "    for credit in client_data[\"creditHistory\"]:\n",
        "        credit_type = credit[\"type\"].lower()\n",
        "        overdue_days = credit[\"numberOfDaysOnOverdue\"]\n",
        "        current_overdue = credit[\"currentOverdueDebt\"] > 0\n",
        "\n",
        "        if \"кредитная карта\" in credit_type:\n",
        "            if current_overdue or overdue_days > 30:\n",
        "                return False\n",
        "        else:\n",
        "            if current_overdue or overdue_days > 60:\n",
        "                return False\n",
        "            if overdue_days > 15:\n",
        "                overdue_count += 1\n",
        "\n",
        "    # Проверка количества кредитов с просрочкой более 15 дней\n",
        "    if overdue_count > 2:\n",
        "        return False\n",
        "\n",
        "    return True"
      ],
      "metadata": {
        "id": "Rh2jny00Akuw"
      },
      "execution_count": 3,
      "outputs": []
    },
    {
      "cell_type": "code",
      "source": [
        "client_json = '''{\n",
        "    \"firstName\": \"Иван\",\n",
        "    \"middleName\": \"Иванович\",\n",
        "    \"lastName\": \"Иванов\",\n",
        "    \"birthDate\": \"1969-12-31T21:00:00.000Z\",\n",
        "    \"citizenship\": \"РФ\",\n",
        "    \"passport\": {\n",
        "        \"series\": \"12 34\",\n",
        "        \"number\": \"123456\",\n",
        "        \"issuedAt\": \"2023-03-11T21:00:00.000Z\",\n",
        "        \"issuer\": \"УФМС\",\n",
        "        \"issuerСode\": \"123-456\"\n",
        "    },\n",
        "    \"creditHistory\": [\n",
        "        {\n",
        "            \"type\": \"Кредит наличными\",\n",
        "            \"currency\": \"RUB\",\n",
        "            \"issuedAt\": \"2003-02-27T21:00:00.000Z\",\n",
        "            \"rate\": 0.13,\n",
        "            \"loanSum\": 100000,\n",
        "            \"term\": 12,\n",
        "            \"repaidAt\": \"2004-02-27T21:00:00.000Z\",\n",
        "            \"currentOverdueDebt\": 0,\n",
        "            \"numberOfDaysOnOverdue\": 0,\n",
        "            \"remainingDebt\": 0,\n",
        "            \"creditId\": \"25e8a350-fbbc-11ee-a951-0242ac120002\"\n",
        "        },\n",
        "        {\n",
        "            \"type\": \"Кредитная карта\",\n",
        "            \"currency\": \"RUB\",\n",
        "            \"issuedAt\": \"2009-03-27T21:00:00.000Z\",\n",
        "            \"rate\": 0.24,\n",
        "            \"loanSum\": 30000,\n",
        "            \"term\": 3,\n",
        "            \"repaidAt\": \"2009-06-29T20:00:00.000Z\",\n",
        "            \"currentOverdueDebt\": 0,\n",
        "            \"numberOfDaysOnOverdue\": 2,\n",
        "            \"remainingDebt\": 0,\n",
        "            \"creditId\": \"81fb1ff6-fbbc-11ee-a951-0242ac120002\"\n",
        "        },\n",
        "        {\n",
        "            \"type\": \"Кредит наличными\",\n",
        "            \"currency\": \"RUB\",\n",
        "            \"issuedAt\": \"2009-02-27T21:00:00.000Z\",\n",
        "            \"rate\": 0.09,\n",
        "            \"loanSum\": 200000,\n",
        "            \"term\": 24,\n",
        "            \"repaidAt\": \"2011-03-02T21:00:00.000Z\",\n",
        "            \"currentOverdueDebt\": 0,\n",
        "            \"numberOfDaysOnOverdue\": 3,\n",
        "            \"remainingDebt\": 0,\n",
        "            \"creditId\": \"c384eea2-fbbc-11ee-a951-0242ac120002\"\n",
        "        },\n",
        "        {\n",
        "            \"type\": \"Кредит наличными\",\n",
        "            \"currency\": \"RUB\",\n",
        "            \"issuedAt\": \"2024-05-15T21:00:00.000Z\",\n",
        "            \"rate\": 0.13,\n",
        "            \"loanSum\": 200000,\n",
        "            \"term\": 36,\n",
        "            \"repaidAt\": null,\n",
        "            \"currentOverdueDebt\": 10379,\n",
        "            \"numberOfDaysOnOverdue\": 15,\n",
        "            \"remainingDebt\": 110000,\n",
        "            \"creditId\": \"ebeddfde-fbbc-11ee-a951-0242ac120002\"\n",
        "        }\n",
        "    ]\n",
        "}'''\n",
        "\n",
        "client_data = json.loads(client_json)\n",
        "print(check_client_eligibility(client_data))"
      ],
      "metadata": {
        "colab": {
          "base_uri": "https://localhost:8080/"
        },
        "id": "Y8YsaR7_Awdd",
        "outputId": "1fe82824-6e16-4c7b-ce83-56088e9b272f"
      },
      "execution_count": 4,
      "outputs": [
        {
          "output_type": "stream",
          "name": "stdout",
          "text": [
            "False\n"
          ]
        }
      ]
    },
    {
      "cell_type": "markdown",
      "source": [
        "Логика работы функции\n",
        "Функция анализирует JSON-объект с информацией о клиенте и его кредитной истории. Она выполняет три проверки:\n",
        "\n",
        "Минимальный возраст\n",
        "\n",
        "Вычисляется возраст клиента на текущую дату.\n",
        "Если возраст меньше 20 лет – отказ.\n",
        "Проверка действительности паспорта\n",
        "\n",
        "Если клиенту больше 20 лет, паспорт должен быть выдан после достижения 20 лет.\n",
        "Если клиенту больше 45 лет, паспорт должен быть выдан после достижения 45 лет.\n",
        "Если одно из условий не выполняется – отказ.\n",
        "Проверка кредитной истории\n",
        "\n",
        "Для всех типов кредитов проверяется наличие непогашенной просроченной задолженности.\n",
        "Для кредитных карт отказ происходит, если была просрочка более 30 дней.\n",
        "Для обычных кредитов отказ происходит, если была просрочка более 60 дней или более двух кредитов с просрочкой >15 дней.\n",
        "Если клиент проходит все проверки, функция возвращает True, иначе False."
      ],
      "metadata": {
        "id": "ZmtPORCcBYBd"
      }
    },
    {
      "cell_type": "markdown",
      "source": [
        "{\n",
        "  \"firstName\": \"Иван\",\n",
        "  \"middleName\": \"Иванович\",\n",
        "  \"lastName\": \"Иванов\",\n",
        "  \"birthDate\": \"2000-01-15T00:00:00.000Z\",\n",
        "  \"citizenship\": \"РФ\",\n",
        "  \"passport\": {\n",
        "    \"series\": \"12 34\",\n",
        "    \"number\": \"123456\",\n",
        "    \"issuedAt\": \"2021-01-20T00:00:00.000Z\",\n",
        "    \"issuer\": \"УФМС\",\n",
        "    \"issuerСode\": \"123-456\"\n",
        "  },\n",
        "  \"creditHistory\": [\n",
        "    {\n",
        "      \"type\": \"Кредит наличными\",\n",
        "      \"currency\": \"RUB\",\n",
        "      \"issuedAt\": \"2022-06-01T00:00:00.000Z\",\n",
        "      \"rate\": 0.13,\n",
        "      \"loanSum\": 50000,\n",
        "      \"term\": 12,\n",
        "      \"repaidAt\": null,\n",
        "      \"currentOverdueDebt\": 0,\n",
        "      \"numberOfDaysOnOverdue\": 0,\n",
        "      \"remainingDebt\": 25000,\n",
        "      \"creditId\": \"123456789\"\n",
        "    }\n",
        "  ]\n",
        "}"
      ],
      "metadata": {
        "id": "eM8v7Aw6BbFe"
      }
    },
    {
      "cell_type": "markdown",
      "source": [
        "Результат выполнения функции:\n",
        "✅ Вывод: True (Клиент успешно прошел все проверки)."
      ],
      "metadata": {
        "id": "daPl1vwlBhWo"
      }
    }
  ]
}